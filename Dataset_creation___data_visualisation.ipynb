{
 "cells": [
  {
   "cell_type": "code",
   "execution_count": null,
   "metadata": {},
   "outputs": [],
   "source": [
    "import pandas as pd\n",
    "import numpy as np\n",
    "import matplotlib.pyplot as plt"
   ]
  },
  {
   "cell_type": "code",
   "execution_count": null,
   "metadata": {},
   "outputs": [],
   "source": [
    "#original_dataset=pd.read_csv(\"charts.csv\")"
   ]
  },
  {
   "cell_type": "code",
   "execution_count": null,
   "metadata": {},
   "outputs": [],
   "source": [
    "#original_dataset.columns"
   ]
  },
  {
   "cell_type": "code",
   "execution_count": null,
   "metadata": {},
   "outputs": [],
   "source": [
    "#original_dataset.head"
   ]
  },
  {
   "cell_type": "code",
   "execution_count": null,
   "metadata": {},
   "outputs": [],
   "source": [
    "#useful_dataset=original_dataset.drop(columns=['trend','chart','date','region','rank'])"
   ]
  },
  {
   "cell_type": "code",
   "execution_count": null,
   "metadata": {},
   "outputs": [],
   "source": [
    "#useful_dataset.head"
   ]
  },
  {
   "cell_type": "code",
   "execution_count": null,
   "metadata": {},
   "outputs": [],
   "source": [
    "#useful_dataset.columns"
   ]
  },
  {
   "cell_type": "code",
   "execution_count": null,
   "metadata": {},
   "outputs": [],
   "source": [
    "#useful_dataset['artist'].value_counts()[0:30]"
   ]
  },
  {
   "cell_type": "code",
   "execution_count": null,
   "metadata": {},
   "outputs": [],
   "source": [
    "#for i in range (1000):\n",
    "#    if useful_dataset['artist'][i]=='Ed Sheeran':\n",
    "#        print(useful_dataset['title'][i])"
   ]
  },
  {
   "cell_type": "code",
   "execution_count": null,
   "metadata": {},
   "outputs": [],
   "source": [
    "#cleaned_dataset=useful_dataset.drop_duplicates(subset=['title','artist'])"
   ]
  },
  {
   "cell_type": "code",
   "execution_count": null,
   "metadata": {},
   "outputs": [],
   "source": [
    "#cleaned_dataset['artist'].value_counts()"
   ]
  },
  {
   "cell_type": "code",
   "execution_count": null,
   "metadata": {},
   "outputs": [],
   "source": [
    "#cleaned_dataset['artist']"
   ]
  },
  {
   "cell_type": "code",
   "execution_count": null,
   "metadata": {},
   "outputs": [],
   "source": [
    "#cleaned_dataset.loc[150:160]"
   ]
  },
  {
   "cell_type": "code",
   "execution_count": null,
   "metadata": {},
   "outputs": [],
   "source": [
    "#new_cleaned_dataset=cleaned_dataset.reset_index()"
   ]
  },
  {
   "cell_type": "code",
   "execution_count": null,
   "metadata": {},
   "outputs": [],
   "source": [
    "new_cleaned_dataset = pd.read_csv(\"charts_light.csv\")"
   ]
  },
  {
   "cell_type": "code",
   "execution_count": null,
   "metadata": {},
   "outputs": [],
   "source": [
    "len(new_cleaned_dataset)"
   ]
  },
  {
   "cell_type": "code",
   "execution_count": null,
   "metadata": {},
   "outputs": [],
   "source": [
    "type(new_cleaned_dataset)"
   ]
  },
  {
   "cell_type": "code",
   "execution_count": 51,
   "metadata": {},
   "outputs": [],
   "source": [
    "import spotipy\n",
    "from spotipy.oauth2 import SpotifyClientCredentials\n",
    "from collections import defaultdict\n",
    "\n",
    "sp = spotipy.Spotify(auth_manager=SpotifyClientCredentials(client_id=\"########\",\n",
    "                                                           client_secret=\"########\"))"
   ]
  },
  {
   "cell_type": "code",
   "execution_count": null,
   "metadata": {},
   "outputs": [],
   "source": [
    "sample_dataset=new_cleaned_dataset[:3000]"
   ]
  },
  {
   "cell_type": "code",
   "execution_count": null,
   "metadata": {},
   "outputs": [],
   "source": [
    "sample_dataset.head"
   ]
  },
  {
   "cell_type": "code",
   "execution_count": null,
   "metadata": {},
   "outputs": [],
   "source": [
    "#execute this cell if you have a time out error in HTTP\n",
    "\"\"\" import urllib3, socket\n",
    "from urllib3.connection import HTTPConnection\n",
    "    \n",
    "HTTPConnection.default_socket_options = ( \n",
    "            HTTPConnection.default_socket_options + [\n",
    "            (socket.SOL_SOCKET, socket.SO_SNDBUF, 1000000), #1MB in byte\n",
    "            (socket.SOL_SOCKET, socket.SO_RCVBUF, 1000000)\n",
    "        ])\n",
    "\"\"\""
   ]
  },
  {
   "cell_type": "code",
   "execution_count": null,
   "metadata": {},
   "outputs": [],
   "source": [
    "#to collect informations about a list of titles\n",
    "our_dataset=[]\n",
    "i = 0\n",
    "j = 0\n",
    "while (i<10000):\n",
    "    try:\n",
    "        j+=1\n",
    "        print(\"Added :\",i,\" - Explored :\", j, end='\\r')\n",
    "        track = sp.search(sample_dataset['title'].loc[j], limit=1)[\"tracks\"]['items']\n",
    "        if(len(track) == 0):\n",
    "            None\n",
    "        else:\n",
    "            track=track[0]\n",
    "\n",
    "            if track['preview_url'] is not None:\n",
    "                artist = sp.artist(track['album'][\"artists\"][0][\"external_urls\"][\"spotify\"])\n",
    "                i += 1\n",
    "                our_dataset.append([track['name'], track['album']['artists'][0]['name'], artist[\"genres\"], track['preview_url'],sp.audio_features(track['id'])[0]])\n",
    "    except KeyboardInterrupt:\n",
    "        break\n",
    "    except Exception as e:\n",
    "        print(e, \"An error has occured, but we continue\")"
   ]
  },
  {
   "cell_type": "code",
   "execution_count": null,
   "metadata": {},
   "outputs": [],
   "source": [
    "#testing=np.array(dataset)\n",
    "our_array=np.array(our_dataset)"
   ]
  },
  {
   "cell_type": "code",
   "execution_count": null,
   "metadata": {},
   "outputs": [],
   "source": [
    "our_array.shape"
   ]
  },
  {
   "cell_type": "code",
   "execution_count": null,
   "metadata": {},
   "outputs": [],
   "source": [
    "our_array"
   ]
  },
  {
   "cell_type": "code",
   "execution_count": null,
   "metadata": {},
   "outputs": [],
   "source": [
    "our_dataframe=pd.DataFrame.from_dict(our_array)"
   ]
  },
  {
   "cell_type": "code",
   "execution_count": null,
   "metadata": {},
   "outputs": [],
   "source": [
    "only_title_dataframe=our_dataframe.drop(columns=[2])"
   ]
  },
  {
   "cell_type": "code",
   "execution_count": null,
   "metadata": {},
   "outputs": [],
   "source": [
    "only_title_dataframe"
   ]
  },
  {
   "cell_type": "code",
   "execution_count": null,
   "metadata": {},
   "outputs": [],
   "source": [
    "all_keys=our_dataframe[2][0].keys()\n",
    "string_keys=['type', 'id', 'uri', 'track_href', 'analysis_url']"
   ]
  },
  {
   "cell_type": "code",
   "execution_count": null,
   "metadata": {},
   "outputs": [],
   "source": [
    "all_keys"
   ]
  },
  {
   "cell_type": "code",
   "execution_count": null,
   "metadata": {},
   "outputs": [],
   "source": [
    "#transforming\n",
    "temporary_list=[]\n",
    "\n",
    "for i in range (1453):\n",
    "    column=[]\n",
    "    for elt in all_keys:\n",
    "        if elt in string_keys:\n",
    "            #print(type(my_data[2][i][elt]))\n",
    "            column.append(our_dataframe[2][i][elt])\n",
    "        else:\n",
    "            #print(type(float(my_data[2][i][elt])))\n",
    "            column.append(float(our_dataframe[2][i][elt]))\n",
    "    temporary_list.append(column)"
   ]
  },
  {
   "cell_type": "code",
   "execution_count": null,
   "metadata": {},
   "outputs": [],
   "source": [
    "print(temporary_list[0])"
   ]
  },
  {
   "cell_type": "code",
   "execution_count": null,
   "metadata": {},
   "outputs": [],
   "source": [
    "new_arrays=np.array(temporary_list,dtype=object)\n",
    "print(new_arrays.shape)"
   ]
  },
  {
   "cell_type": "code",
   "execution_count": null,
   "metadata": {
    "scrolled": true
   },
   "outputs": [],
   "source": [
    "print(new_arrays[0])"
   ]
  },
  {
   "cell_type": "code",
   "execution_count": null,
   "metadata": {},
   "outputs": [],
   "source": [
    "mydataframe=pd.DataFrame.from_dict(new_arrays)"
   ]
  },
  {
   "cell_type": "code",
   "execution_count": null,
   "metadata": {},
   "outputs": [],
   "source": [
    "print(mydataframe)"
   ]
  },
  {
   "cell_type": "code",
   "execution_count": null,
   "metadata": {},
   "outputs": [],
   "source": [
    "new_dataframe=mydataframe.rename(columns={ 0 : 'danceability', 1: 'energy', 2: 'key', 3: 'loudness',\n",
    "                            4: 'mode', 5: 'speechiness', 6: 'acousticness',7:  'instrumentalness',8:  'liveness', 9: 'valence', 10: 'tempo',\n",
    "                            11: 'type', 12: 'id', 13: 'uri', 14: 'track_href', 15: 'analysis_url', 16: 'duration_ms',17:  'time_signature'\n",
    "                           })"
   ]
  },
  {
   "cell_type": "code",
   "execution_count": null,
   "metadata": {
    "scrolled": true
   },
   "outputs": [],
   "source": [
    "new_dataframe"
   ]
  },
  {
   "cell_type": "code",
   "execution_count": null,
   "metadata": {},
   "outputs": [],
   "source": [
    "#Tentative de fusion"
   ]
  },
  {
   "cell_type": "code",
   "execution_count": null,
   "metadata": {},
   "outputs": [],
   "source": [
    "created_dataframe=pd.concat([only_title_dataframe,new_dataframe],axis=1)"
   ]
  },
  {
   "cell_type": "code",
   "execution_count": null,
   "metadata": {},
   "outputs": [],
   "source": [
    "created_dataframe"
   ]
  },
  {
   "cell_type": "code",
   "execution_count": null,
   "metadata": {},
   "outputs": [],
   "source": [
    "new_dataframe['danceability']"
   ]
  },
  {
   "cell_type": "code",
   "execution_count": null,
   "metadata": {},
   "outputs": [],
   "source": [
    "plt.boxplot([new_dataframe['danceability'],new_dataframe['energy'],new_dataframe['key']],labels =[\"danceability\", \"energy\", \"key\"], showfliers = False)"
   ]
  },
  {
   "cell_type": "code",
   "execution_count": null,
   "metadata": {},
   "outputs": [],
   "source": [
    "for key in all_keys:\n",
    "    if key not in string_keys:\n",
    "        plt.boxplot([new_dataframe[key]],labels=[key],showfliers = False)"
   ]
  },
  {
   "cell_type": "code",
   "execution_count": null,
   "metadata": {},
   "outputs": [],
   "source": [
    "all_keys"
   ]
  },
  {
   "cell_type": "code",
   "execution_count": null,
   "metadata": {},
   "outputs": [],
   "source": [
    "plt.boxplot([new_dataframe['danceability']],labels=['danceability'],showfliers = False)"
   ]
  },
  {
   "cell_type": "code",
   "execution_count": null,
   "metadata": {},
   "outputs": [],
   "source": [
    "plt.boxplot([new_dataframe['energy']],labels=['energy'],showfliers = False)"
   ]
  },
  {
   "cell_type": "code",
   "execution_count": null,
   "metadata": {},
   "outputs": [],
   "source": [
    "plt.boxplot([new_dataframe['key']],labels=['key'],showfliers = False)"
   ]
  },
  {
   "cell_type": "code",
   "execution_count": null,
   "metadata": {},
   "outputs": [],
   "source": [
    "plt.boxplot([new_dataframe['loudness']],labels=['loudness'],showfliers = False)"
   ]
  },
  {
   "cell_type": "code",
   "execution_count": null,
   "metadata": {},
   "outputs": [],
   "source": []
  },
  {
   "cell_type": "code",
   "execution_count": null,
   "metadata": {},
   "outputs": [],
   "source": []
  },
  {
   "cell_type": "code",
   "execution_count": null,
   "metadata": {},
   "outputs": [],
   "source": [
    "testing=pd.read_csv('created.csv') "
   ]
  },
  {
   "cell_type": "code",
   "execution_count": null,
   "metadata": {},
   "outputs": [],
   "source": [
    "testing"
   ]
  },
  {
   "cell_type": "code",
   "execution_count": null,
   "metadata": {},
   "outputs": [],
   "source": [
    "created_dataframe.to_csv('created.csv', index=False)"
   ]
  },
  {
   "cell_type": "code",
   "execution_count": null,
   "metadata": {},
   "outputs": [],
   "source": [
    "titles=dataset[[\"title\"]]"
   ]
  },
  {
   "cell_type": "code",
   "execution_count": null,
   "metadata": {},
   "outputs": [],
   "source": [
    "titles"
   ]
  },
  {
   "cell_type": "code",
   "execution_count": null,
   "metadata": {},
   "outputs": [],
   "source": [
    "pip install spotipy"
   ]
  },
  {
   "cell_type": "code",
   "execution_count": null,
   "metadata": {},
   "outputs": [],
   "source": [
    "#title = \"bellyache\"\n",
    "new=titles.values.tolist()\n"
   ]
  },
  {
   "cell_type": "code",
   "execution_count": null,
   "metadata": {},
   "outputs": [],
   "source": [
    "dataset[0][2][0]"
   ]
  },
  {
   "cell_type": "code",
   "execution_count": null,
   "metadata": {},
   "outputs": [],
   "source": [
    "len(dataset)\n",
    "dataset[0][2][0]['danceability']\n",
    "dataset[0][2][0]['energy']\n",
    "dataset[0][2][0]['key']\n",
    "dataset[0][2][0]['mode']\n",
    "dataset[0][2][0]['speechiness']\n",
    "dataset[0][2][0]['acousticness']\n",
    "dataset[0][2][0]['tempo']"
   ]
  },
  {
   "cell_type": "code",
   "execution_count": null,
   "metadata": {},
   "outputs": [],
   "source": [
    "for i in range (200):\n",
    "    print(dataset[i][0])"
   ]
  },
  {
   "cell_type": "code",
   "execution_count": null,
   "metadata": {},
   "outputs": [],
   "source": [
    "\"\"\"\"def auto_boxplot(data, column, showfliers):\n",
    "\n",
    "    plt.figure()\n",
    "    plt.title(\"Characteristics of \" + column)\n",
    "\n",
    "    plt.boxplot([data[column], benign], labels =[\"Danceability\", \"Tempo\"], showfliers = showfliers)\n",
    "    plt.show()\"\"\""
   ]
  },
  {
   "cell_type": "code",
   "execution_count": null,
   "metadata": {},
   "outputs": [],
   "source": []
  },
  {
   "cell_type": "code",
   "execution_count": null,
   "metadata": {},
   "outputs": [],
   "source": []
  },
  {
   "cell_type": "code",
   "execution_count": 3,
   "metadata": {},
   "outputs": [],
   "source": [
    "#### DATA VISUALIZATION"
   ]
  },
  {
   "cell_type": "code",
   "execution_count": 4,
   "metadata": {},
   "outputs": [],
   "source": [
    "import pandas as pd\n",
    "import numpy as np\n",
    "import matplotlib.pyplot as plt"
   ]
  },
  {
   "cell_type": "code",
   "execution_count": 5,
   "metadata": {},
   "outputs": [],
   "source": [
    "original_dataset=pd.read_csv(\"dataset.csv\")"
   ]
  },
  {
   "cell_type": "code",
   "execution_count": 6,
   "metadata": {},
   "outputs": [
    {
     "data": {
      "text/plain": [
       "Index(['title', 'artist', 'genre', 'demo', 'danceability', 'energy', 'key',\n",
       "       'loudness', 'mode', 'speechiness', 'acousticness', 'instrumentalness',\n",
       "       'liveness', 'valence', 'tempo', 'id', 'uri', 'track_href',\n",
       "       'analysis_url', 'duration_ms', 'time_signature'],\n",
       "      dtype='object')"
      ]
     },
     "execution_count": 6,
     "metadata": {},
     "output_type": "execute_result"
    }
   ],
   "source": [
    "original_dataset.columns"
   ]
  },
  {
   "cell_type": "code",
   "execution_count": 7,
   "metadata": {},
   "outputs": [],
   "source": [
    "string_keys=['title','artist', 'genre', 'demo', 'id', 'uri', 'track_href', 'analysis_url']"
   ]
  },
  {
   "cell_type": "code",
   "execution_count": 8,
   "metadata": {},
   "outputs": [
    {
     "data": {
      "text/plain": [
       "<bound method NDFrame.head of                             title              artist  \\\n",
       "0     Vente Pa' Ca (feat. Maluma)        Ricky Martin   \n",
       "1      Reggaetón Lento (Bailemos)                CNCO   \n",
       "2                          SAFARI  Tyler, The Creator   \n",
       "3         Cuando Se Pone a Bailar              Rombai   \n",
       "4       Otra vez (feat. J Balvin)       Zion & Lennox   \n",
       "...                           ...                 ...   \n",
       "9314                   Sweet Scar        Weird Genius   \n",
       "9315        Lollipop (Ode To Jim)             Alvvays   \n",
       "9316                         Heal           Tom Odell   \n",
       "9317               Goodbye Kisses           Joe Hertz   \n",
       "9318            High Heeled Shoes       Megan McKenna   \n",
       "\n",
       "                                                  genre  \\\n",
       "0     ['dance pop', 'latin', 'latin pop', 'mexican p...   \n",
       "1       ['boy band', 'latin', 'latin pop', 'reggaeton']   \n",
       "2                                    ['hip hop', 'rap']   \n",
       "3                                        ['cumbia pop']   \n",
       "4     ['latin', 'latin hip hop', 'reggaeton', 'trap ...   \n",
       "...                                                 ...   \n",
       "9314                                 ['indonesian pop']   \n",
       "9315  ['dream pop', 'dreamo', 'indie pop', 'indie ro...   \n",
       "9316                               ['chill pop', 'pop']   \n",
       "9317  ['alternative r&b', 'indie r&b', 'indie soul',...   \n",
       "9318                                ['british country']   \n",
       "\n",
       "                                                   demo  danceability  energy  \\\n",
       "0     https://p.scdn.co/mp3-preview/21e38a8983daf1c3...         0.663   0.920   \n",
       "1     https://p.scdn.co/mp3-preview/ced5c17cadb43603...         0.761   0.838   \n",
       "2     https://p.scdn.co/mp3-preview/46545a950dc150f8...         0.471   0.710   \n",
       "3     https://p.scdn.co/mp3-preview/02730a7c430c379f...         0.588   0.682   \n",
       "4     https://p.scdn.co/mp3-preview/80f292da16e796af...         0.832   0.772   \n",
       "...                                                 ...           ...     ...   \n",
       "9314  https://p.scdn.co/mp3-preview/4e8d36d748dfa5b8...         0.529   0.857   \n",
       "9315  https://p.scdn.co/mp3-preview/191c371dcbfe17ea...         0.275   0.930   \n",
       "9316  https://p.scdn.co/mp3-preview/25959bffb68099a5...         0.445   0.179   \n",
       "9317  https://p.scdn.co/mp3-preview/f73a18675f6d4b9a...         0.683   0.549   \n",
       "9318  https://p.scdn.co/mp3-preview/ae622c866e2d4850...         0.501   0.599   \n",
       "\n",
       "       key  loudness  mode  speechiness  ...  instrumentalness  liveness  \\\n",
       "0     11.0    -4.070   0.0       0.2260  ...          0.000017    0.1010   \n",
       "1      4.0    -3.073   0.0       0.0502  ...          0.000000    0.1760   \n",
       "2      1.0    -6.462   0.0       0.2130  ...          0.000002    0.3380   \n",
       "3     11.0    -7.169   0.0       0.1730  ...          0.000027    0.0840   \n",
       "4     10.0    -5.429   1.0       0.1000  ...          0.000486    0.4400   \n",
       "...    ...       ...   ...          ...  ...               ...       ...   \n",
       "9314   0.0    -1.183   1.0       0.0385  ...          0.000000    0.0989   \n",
       "9315   5.0    -3.229   1.0       0.0524  ...          0.497000    0.3350   \n",
       "9316   1.0   -12.938   1.0       0.0396  ...          0.000560    0.1070   \n",
       "9317  11.0    -7.938   0.0       0.1720  ...          0.000005    0.5720   \n",
       "9318   0.0    -4.784   1.0       0.0266  ...          0.000000    0.5320   \n",
       "\n",
       "      valence    tempo                      id  \\\n",
       "0       0.533   99.935  7DM4BPaS7uofFul3ywMe46   \n",
       "1       0.710   93.974  3AEZUABDXNtecAOSC1qTfo   \n",
       "2       0.599   80.453  09xpQPfKWdio1wx6v17dGa   \n",
       "3       0.937  205.643  1MpKZi1zTXpERKwxmOu1PH   \n",
       "4       0.704   96.016  3QwBODjSEzelZyVjxPOHdq   \n",
       "...       ...      ...                     ...   \n",
       "9314    0.417  150.143  3R0FDwQSXOiO5gaOZFxKZ5   \n",
       "9315    0.473  166.079  4B0DKl08l4AJflQmZkEDvQ   \n",
       "9316    0.119   72.246  4KlL5Bwlm4yHYxr0B2rHci   \n",
       "9317    0.391   95.029  0itkWlo0hxkmPtsDZkvScn   \n",
       "9318    0.337   80.014  7m1OTPsXRcMQj3e4cs7djW   \n",
       "\n",
       "                                       uri  \\\n",
       "0     spotify:track:7DM4BPaS7uofFul3ywMe46   \n",
       "1     spotify:track:3AEZUABDXNtecAOSC1qTfo   \n",
       "2     spotify:track:09xpQPfKWdio1wx6v17dGa   \n",
       "3     spotify:track:1MpKZi1zTXpERKwxmOu1PH   \n",
       "4     spotify:track:3QwBODjSEzelZyVjxPOHdq   \n",
       "...                                    ...   \n",
       "9314  spotify:track:3R0FDwQSXOiO5gaOZFxKZ5   \n",
       "9315  spotify:track:4B0DKl08l4AJflQmZkEDvQ   \n",
       "9316  spotify:track:4KlL5Bwlm4yHYxr0B2rHci   \n",
       "9317  spotify:track:0itkWlo0hxkmPtsDZkvScn   \n",
       "9318  spotify:track:7m1OTPsXRcMQj3e4cs7djW   \n",
       "\n",
       "                                             track_href  \\\n",
       "0     https://api.spotify.com/v1/tracks/7DM4BPaS7uof...   \n",
       "1     https://api.spotify.com/v1/tracks/3AEZUABDXNte...   \n",
       "2     https://api.spotify.com/v1/tracks/09xpQPfKWdio...   \n",
       "3     https://api.spotify.com/v1/tracks/1MpKZi1zTXpE...   \n",
       "4     https://api.spotify.com/v1/tracks/3QwBODjSEzel...   \n",
       "...                                                 ...   \n",
       "9314  https://api.spotify.com/v1/tracks/3R0FDwQSXOiO...   \n",
       "9315  https://api.spotify.com/v1/tracks/4B0DKl08l4AJ...   \n",
       "9316  https://api.spotify.com/v1/tracks/4KlL5Bwlm4yH...   \n",
       "9317  https://api.spotify.com/v1/tracks/0itkWlo0hxkm...   \n",
       "9318  https://api.spotify.com/v1/tracks/7m1OTPsXRcMQ...   \n",
       "\n",
       "                                           analysis_url duration_ms  \\\n",
       "0     https://api.spotify.com/v1/audio-analysis/7DM4...    259196.0   \n",
       "1     https://api.spotify.com/v1/audio-analysis/3AEZ...    222560.0   \n",
       "2     https://api.spotify.com/v1/audio-analysis/09xp...    177743.0   \n",
       "3     https://api.spotify.com/v1/audio-analysis/1MpK...    195274.0   \n",
       "4     https://api.spotify.com/v1/audio-analysis/3QwB...    209453.0   \n",
       "...                                                 ...         ...   \n",
       "9314  https://api.spotify.com/v1/audio-analysis/3R0F...    194855.0   \n",
       "9315  https://api.spotify.com/v1/audio-analysis/4B0D...    197202.0   \n",
       "9316  https://api.spotify.com/v1/audio-analysis/4KlL...    193080.0   \n",
       "9317  https://api.spotify.com/v1/audio-analysis/0itk...    220300.0   \n",
       "9318  https://api.spotify.com/v1/audio-analysis/7m1O...    207171.0   \n",
       "\n",
       "      time_signature  \n",
       "0                4.0  \n",
       "1                4.0  \n",
       "2                4.0  \n",
       "3                4.0  \n",
       "4                4.0  \n",
       "...              ...  \n",
       "9314             4.0  \n",
       "9315             4.0  \n",
       "9316             4.0  \n",
       "9317             4.0  \n",
       "9318             4.0  \n",
       "\n",
       "[9319 rows x 21 columns]>"
      ]
     },
     "execution_count": 8,
     "metadata": {},
     "output_type": "execute_result"
    }
   ],
   "source": [
    "original_dataset.head"
   ]
  },
  {
   "cell_type": "code",
   "execution_count": 9,
   "metadata": {},
   "outputs": [
    {
     "data": {
      "text/plain": [
       "Various Artists                            178\n",
       "Bad Bunny                                   52\n",
       "Patricio Rey y sus Redonditos de Ricota     49\n",
       "Jorge & Mateus                              28\n",
       "Ed Sheeran                                  26\n",
       "Ozuna                                       26\n",
       "Marília Mendonça                            25\n",
       "JVG                                         23\n",
       "J-AX                                        21\n",
       "Ninho                                       20\n",
       "Maluma                                      20\n",
       "BTS                                         19\n",
       "Future                                      19\n",
       "Jul                                         18\n",
       "Wesley Safadão                              18\n",
       "Bruno Mars                                  17\n",
       "Jay Chou                                    16\n",
       "Lil Uzi Vert                                16\n",
       "Tyler, The Creator                          15\n",
       "Romeo Santos                                15\n",
       "Name: artist, dtype: int64"
      ]
     },
     "execution_count": 9,
     "metadata": {},
     "output_type": "execute_result"
    }
   ],
   "source": [
    "original_dataset['artist'].value_counts()[0:20]"
   ]
  },
  {
   "cell_type": "code",
   "execution_count": 10,
   "metadata": {},
   "outputs": [],
   "source": [
    "all_keys=original_dataset.keys()"
   ]
  },
  {
   "cell_type": "code",
   "execution_count": 11,
   "metadata": {},
   "outputs": [
    {
     "data": {
      "text/plain": [
       "numpy.float64"
      ]
     },
     "execution_count": 11,
     "metadata": {},
     "output_type": "execute_result"
    }
   ],
   "source": [
    "type(original_dataset['energy'][0])"
   ]
  },
  {
   "cell_type": "code",
   "execution_count": 12,
   "metadata": {},
   "outputs": [
    {
     "data": {
      "text/plain": [
       "0.6398244777765828"
      ]
     },
     "execution_count": 12,
     "metadata": {},
     "output_type": "execute_result"
    }
   ],
   "source": [
    "original_dataset['energy'].mean()"
   ]
  },
  {
   "cell_type": "code",
   "execution_count": 13,
   "metadata": {},
   "outputs": [
    {
     "data": {
      "text/plain": [
       "count    9319.000000\n",
       "mean        0.639824\n",
       "std         0.197846\n",
       "min         0.000099\n",
       "25%         0.520000\n",
       "50%         0.662000\n",
       "75%         0.787000\n",
       "max         0.999000\n",
       "Name: energy, dtype: float64"
      ]
     },
     "execution_count": 13,
     "metadata": {},
     "output_type": "execute_result"
    }
   ],
   "source": [
    "original_dataset['energy'].describe()"
   ]
  },
  {
   "cell_type": "code",
   "execution_count": 14,
   "metadata": {},
   "outputs": [],
   "source": [
    "nan_keys=[]\n",
    "for key in all_keys:\n",
    "    if original_dataset[key].isnull().sum()!=0:\n",
    "        nan_keys.append(key)\n",
    "        print(key, \"has \", original_dataset[key].isnull().sum(), \"nan values\")"
   ]
  },
  {
   "cell_type": "code",
   "execution_count": 15,
   "metadata": {},
   "outputs": [],
   "source": [
    "for key in nan_keys:\n",
    "    if key not in string_keys: \n",
    "        original_dataset[key] = original_dataset[key].fillna(original_dataset[key].mean())\n",
    "    else:\n",
    "        original_dataset[key] = original_dataset[key].fillna(\"Unknown\")"
   ]
  },
  {
   "cell_type": "code",
   "execution_count": 16,
   "metadata": {},
   "outputs": [],
   "source": [
    "nan_keys=[]\n",
    "for key in all_keys:\n",
    "    if original_dataset[key].isnull().sum()!=0:\n",
    "        nan_keys.append(key)\n",
    "        print(key, \"has \", original_dataset[key].isnull().sum(), \"nan values\")"
   ]
  },
  {
   "cell_type": "code",
   "execution_count": 17,
   "metadata": {},
   "outputs": [],
   "source": [
    "numerical_key=[]\n",
    "for key in all_keys:\n",
    "    if key not in string_keys:\n",
    "        numerical_key.append(key)"
   ]
  },
  {
   "cell_type": "code",
   "execution_count": 18,
   "metadata": {},
   "outputs": [
    {
     "data": {
      "text/plain": [
       "['danceability',\n",
       " 'energy',\n",
       " 'key',\n",
       " 'loudness',\n",
       " 'mode',\n",
       " 'speechiness',\n",
       " 'acousticness',\n",
       " 'instrumentalness',\n",
       " 'liveness',\n",
       " 'valence',\n",
       " 'tempo',\n",
       " 'duration_ms',\n",
       " 'time_signature']"
      ]
     },
     "execution_count": 18,
     "metadata": {},
     "output_type": "execute_result"
    }
   ],
   "source": [
    "numerical_key"
   ]
  },
  {
   "cell_type": "code",
   "execution_count": 19,
   "metadata": {},
   "outputs": [
    {
     "data": {
      "text/plain": [
       "<AxesSubplot:>"
      ]
     },
     "execution_count": 19,
     "metadata": {},
     "output_type": "execute_result"
    },
    {
     "data": {
      "image/png": "[encoded data removed]",
      "text/plain": [
       "<Figure size 432x288 with 1 Axes>"
      ]
     },
     "metadata": {
      "needs_background": "light"
     },
     "output_type": "display_data"
    }
   ],
   "source": [
    "original_dataset.boxplot(column=numerical_key[0:3])"
   ]
  },
  {
   "cell_type": "code",
   "execution_count": 20,
   "metadata": {},
   "outputs": [
    {
     "data": {
      "text/plain": [
       "<AxesSubplot:>"
      ]
     },
     "execution_count": 20,
     "metadata": {},
     "output_type": "execute_result"
    },
    {
     "data": {
      "image/png": "[encoded data removed]",
      "text/plain": [
       "<Figure size 432x288 with 1 Axes>"
      ]
     },
     "metadata": {
      "needs_background": "light"
     },
     "output_type": "display_data"
    }
   ],
   "source": [
    "original_dataset.boxplot(column=numerical_key[4:7])"
   ]
  },
  {
   "cell_type": "code",
   "execution_count": 21,
   "metadata": {},
   "outputs": [
    {
     "data": {
      "text/plain": [
       "<AxesSubplot:>"
      ]
     },
     "execution_count": 21,
     "metadata": {},
     "output_type": "execute_result"
    },
    {
     "data": {
      "image/png": "[encoded data removed]",
      "text/plain": [
       "<Figure size 432x288 with 1 Axes>"
      ]
     },
     "metadata": {
      "needs_background": "light"
     },
     "output_type": "display_data"
    }
   ],
   "source": [
    "original_dataset.boxplot(column=numerical_key[7:10])"
   ]
  },
  {
   "cell_type": "code",
   "execution_count": 22,
   "metadata": {},
   "outputs": [
    {
     "data": {
      "text/plain": [
       "<AxesSubplot:>"
      ]
     },
     "execution_count": 22,
     "metadata": {},
     "output_type": "execute_result"
    },
    {
     "data": {
      "image/png": "[encoded data removed]",
      "text/plain": [
       "<Figure size 432x288 with 1 Axes>"
      ]
     },
     "metadata": {
      "needs_background": "light"
     },
     "output_type": "display_data"
    }
   ],
   "source": [
    "original_dataset.boxplot(column=numerical_key[10:13])"
   ]
  },
  {
   "cell_type": "code",
   "execution_count": 23,
   "metadata": {},
   "outputs": [
    {
     "data": {
      "text/plain": [
       "['title', 'artist', 'genre', 'demo', 'id', 'uri', 'track_href', 'analysis_url']"
      ]
     },
     "execution_count": 23,
     "metadata": {},
     "output_type": "execute_result"
    }
   ],
   "source": [
    "string_keys"
   ]
  },
  {
   "cell_type": "code",
   "execution_count": 24,
   "metadata": {},
   "outputs": [
    {
     "data": {
      "text/plain": [
       "str"
      ]
     },
     "execution_count": 24,
     "metadata": {},
     "output_type": "execute_result"
    }
   ],
   "source": [
    "type(original_dataset['genre'][0])"
   ]
  },
  {
   "cell_type": "code",
   "execution_count": 25,
   "metadata": {},
   "outputs": [
    {
     "data": {
      "text/plain": [
       "\"['dance pop', 'latin', 'latin pop', 'mexican pop', 'puerto rican pop']\""
      ]
     },
     "execution_count": 25,
     "metadata": {},
     "output_type": "execute_result"
    }
   ],
   "source": [
    "original_dataset['genre'][0]"
   ]
  },
  {
   "cell_type": "code",
   "execution_count": 26,
   "metadata": {},
   "outputs": [
    {
     "name": "stderr",
     "output_type": "stream",
     "text": [
      "<ipython-input-26-75cf0f28b71d>:7: SettingWithCopyWarning: \n",
      "A value is trying to be set on a copy of a slice from a DataFrame\n",
      "\n",
      "See the caveats in the documentation: https://pandas.pydata.org/pandas-docs/stable/user_guide/indexing.html#returning-a-view-versus-a-copy\n",
      "  original_dataset['genre'][i]=line\n"
     ]
    }
   ],
   "source": [
    "for i in range(len(original_dataset['genre'])): \n",
    "    line=original_dataset['genre'][i].replace( \"'\", '')\n",
    "    line=line.replace('[', '')\n",
    "    line=line.replace(']', '')\n",
    "    line=line.replace(' ', '')\n",
    "    line=list(line.split(\",\"))\n",
    "    original_dataset['genre'][i]=line"
   ]
  },
  {
   "cell_type": "code",
   "execution_count": 27,
   "metadata": {},
   "outputs": [],
   "source": [
    "all_genre=[]\n",
    "for i in range(len(original_dataset['genre'])): \n",
    "    for k in range(len(original_dataset['genre'][i])):\n",
    "        if(original_dataset['genre'][i][k] not in all_genre):\n",
    "            all_genre.append(original_dataset['genre'][i][k])"
   ]
  },
  {
   "cell_type": "code",
   "execution_count": 28,
   "metadata": {},
   "outputs": [
    {
     "data": {
      "text/plain": [
       "2039"
      ]
     },
     "execution_count": 28,
     "metadata": {},
     "output_type": "execute_result"
    }
   ],
   "source": [
    "len(all_genre)"
   ]
  },
  {
   "cell_type": "code",
   "execution_count": 29,
   "metadata": {},
   "outputs": [],
   "source": [
    "categories=[]\n",
    "for genre in all_genre:\n",
    "    music_genre=[]\n",
    "    for i in range(len(original_dataset['genre'])):\n",
    "        if genre in original_dataset['genre'][i]:\n",
    "            music_genre.append(i)\n",
    "    categories.append(music_genre)"
   ]
  },
  {
   "cell_type": "code",
   "execution_count": 30,
   "metadata": {},
   "outputs": [
    {
     "data": {
      "text/plain": [
       "2039"
      ]
     },
     "execution_count": 30,
     "metadata": {},
     "output_type": "execute_result"
    }
   ],
   "source": [
    "len(categories)"
   ]
  },
  {
   "cell_type": "code",
   "execution_count": 31,
   "metadata": {},
   "outputs": [
    {
     "data": {
      "text/plain": [
       "625"
      ]
     },
     "execution_count": 31,
     "metadata": {},
     "output_type": "execute_result"
    }
   ],
   "source": [
    "len(categories[1])"
   ]
  },
  {
   "cell_type": "code",
   "execution_count": 32,
   "metadata": {},
   "outputs": [],
   "source": [
    "songs_by_categories=[]\n",
    "for i in range (len(categories)):\n",
    "    songs_by_categories.append(len(categories[i]))"
   ]
  },
  {
   "cell_type": "code",
   "execution_count": 33,
   "metadata": {},
   "outputs": [
    {
     "name": "stdout",
     "output_type": "stream",
     "text": [
      "[2038 1578 1208 ...    1   17   59]\n"
     ]
    }
   ],
   "source": [
    "sorted_index_array = np.argsort(np.array(songs_by_categories))\n",
    "print(sorted_index_array)"
   ]
  },
  {
   "cell_type": "code",
   "execution_count": 34,
   "metadata": {},
   "outputs": [],
   "source": [
    "indexes=(sorted_index_array[-15:])"
   ]
  },
  {
   "cell_type": "code",
   "execution_count": 35,
   "metadata": {},
   "outputs": [
    {
     "data": {
      "text/plain": [
       "['mandopop',\n",
       " 'modernrock',\n",
       " 'rock',\n",
       " 'popdance',\n",
       " 'trap',\n",
       " 'latinpop',\n",
       " 'edm',\n",
       " 'poprap',\n",
       " 'rap',\n",
       " 'reggaeton',\n",
       " 'traplatino',\n",
       " 'dancepop',\n",
       " 'latin',\n",
       " 'pop',\n",
       " '']"
      ]
     },
     "execution_count": 35,
     "metadata": {},
     "output_type": "execute_result"
    }
   ],
   "source": [
    "indexes\n",
    "most_genre=[all_genre[indexes[i]] for i in range(len(indexes)) ]\n",
    "most_genre"
   ]
  },
  {
   "cell_type": "code",
   "execution_count": 36,
   "metadata": {},
   "outputs": [
    {
     "data": {
      "text/plain": [
       "[210, 224, 231, 240, 250, 255, 260, 284, 333, 399, 441, 530, 625, 792, 900]"
      ]
     },
     "execution_count": 36,
     "metadata": {},
     "output_type": "execute_result"
    }
   ],
   "source": [
    "number_of_songs=[]\n",
    "for i in range (len(indexes)):\n",
    "    number_of_songs.append(songs_by_categories[indexes[i]])\n",
    "number_of_songs"
   ]
  },
  {
   "cell_type": "code",
   "execution_count": 37,
   "metadata": {},
   "outputs": [
    {
     "data": {
      "image/png": "[encoded data removed]",
      "text/plain": [
       "<Figure size 432x288 with 1 Axes>"
      ]
     },
     "metadata": {},
     "output_type": "display_data"
    }
   ],
   "source": [
    "import matplotlib.pyplot as plt\n",
    "import numpy as np\n",
    "\n",
    "plt.pie(number_of_songs, labels = most_genre)\n",
    "plt.show() "
   ]
  },
  {
   "cell_type": "code",
   "execution_count": 38,
   "metadata": {},
   "outputs": [
    {
     "data": {
      "text/plain": [
       "['dancepop',\n",
       " 'latin',\n",
       " 'latinpop',\n",
       " 'mexicanpop',\n",
       " 'puertoricanpop',\n",
       " 'boyband',\n",
       " 'reggaeton',\n",
       " 'hiphop',\n",
       " 'rap',\n",
       " 'cumbiapop',\n",
       " 'latinhiphop',\n",
       " 'traplatino',\n",
       " 'champeta',\n",
       " 'colombianpop',\n",
       " 'tropical',\n",
       " 'vallenato',\n",
       " 'reggaetoncolombiano',\n",
       " 'pop',\n",
       " 'edm',\n",
       " 'popdance',\n",
       " 'tropicalhouse',\n",
       " 'ukdance',\n",
       " 'ukfunky',\n",
       " 'cubaton',\n",
       " 'reggaetonflow',\n",
       " 'dutchedm',\n",
       " 'progressivehouse',\n",
       " 'argentinetelepop',\n",
       " 'cumbiaparaguaya',\n",
       " 'latinarenapop',\n",
       " 'electropop',\n",
       " 'banda',\n",
       " 'musicamexicana',\n",
       " 'norteno',\n",
       " 'ranchera',\n",
       " 'corridostumbados',\n",
       " 'argentinehiphop',\n",
       " 'trapargentino',\n",
       " 'bachata',\n",
       " 'bachatadominicana',\n",
       " 'cumbiasonidera',\n",
       " 'indierock',\n",
       " 'bigroom',\n",
       " 'poprap',\n",
       " 'cumbiachilena',\n",
       " 'cumbiavillera',\n",
       " 'electrohouse',\n",
       " 'australiandance',\n",
       " 'australianpop',\n",
       " 'girlgroup',\n",
       " 'post-teenpop',\n",
       " 'talentshow',\n",
       " 'viralpop',\n",
       " 'argentinerock',\n",
       " 'folkloreargentino',\n",
       " 'popargentino',\n",
       " 'dominicanpop',\n",
       " 'spanishpop',\n",
       " 'panamanianpop',\n",
       " '',\n",
       " 'cantautor',\n",
       " 'rockenespanol',\n",
       " 'modernrock',\n",
       " 'rock',\n",
       " 'mexicanhiphop',\n",
       " 'nuevamusicamexicana',\n",
       " 'sierreno',\n",
       " 'corrido',\n",
       " 'house',\n",
       " 'chicha',\n",
       " 'cuarteto',\n",
       " 'miamihiphop',\n",
       " 'permanentwave',\n",
       " 'raplatina',\n",
       " 'trapdominicano',\n",
       " 'merengue',\n",
       " 'ecuadorianpop',\n",
       " 'popreggaeton',\n",
       " 'cumbia',\n",
       " 'cumbialagunera',\n",
       " 'salsa',\n",
       " 'salsapuertorriquena',\n",
       " 'cumbiaperuana',\n",
       " 'popperuano',\n",
       " 'traptriste',\n",
       " 'latinalternative',\n",
       " 'latinrock',\n",
       " 'post-punkargentina',\n",
       " 'skaargentino',\n",
       " 'r&b',\n",
       " 'southernhiphop',\n",
       " 'trap',\n",
       " 'trapsoul',\n",
       " 'hollywood',\n",
       " 'showtunes',\n",
       " 'floridarap',\n",
       " 'ukpop',\n",
       " 'classicsoul',\n",
       " 'funk',\n",
       " 'indier&b',\n",
       " 'motown',\n",
       " 'northernsoul',\n",
       " 'quietstorm',\n",
       " 'soul',\n",
       " 'aussietronica',\n",
       " 'australianelectropop',\n",
       " 'neomellow',\n",
       " 'poprock',\n",
       " 'scandipop',\n",
       " 'swedishelectropop',\n",
       " 'swedishpop',\n",
       " 'indieelectropop',\n",
       " 'indiepoptimism',\n",
       " 'lapop',\n",
       " 'popedm',\n",
       " 'australianindie',\n",
       " 'downtempo',\n",
       " 'australianhiphop',\n",
       " 'australiantalentshow',\n",
       " 'australiantrap',\n",
       " 'hyphy',\n",
       " 'deepeurohouse',\n",
       " 'deephouse',\n",
       " 'germandance',\n",
       " 'swedishtropicalhouse',\n",
       " 'contemporarypost-bop',\n",
       " 'instrumentalfunk',\n",
       " 'jazz',\n",
       " 'jazzfunk',\n",
       " 'jazzfusion',\n",
       " 'jazzpiano',\n",
       " 'ukcontemporaryjazz',\n",
       " 'atlhiphop',\n",
       " 'artpop',\n",
       " 'candypop',\n",
       " 'metropopolis',\n",
       " 'danishpop',\n",
       " 'alternativer&b',\n",
       " 'virginiahiphop',\n",
       " 'dreampop',\n",
       " 'indietronica',\n",
       " 'neosoul',\n",
       " 'britishsoul',\n",
       " 'popsoul',\n",
       " 'brooklynindie',\n",
       " 'indiepop',\n",
       " 'nycpop',\n",
       " 'vaporsoul',\n",
       " 'folk',\n",
       " 'lilith',\n",
       " 'singer-songwriter',\n",
       " '\"womensmusic\"',\n",
       " 'neworleansrap',\n",
       " 'altz',\n",
       " 'folk-pop',\n",
       " 'indiepoprap',\n",
       " 'contemporaryr&b',\n",
       " 'hippop',\n",
       " 'urbancontemporary',\n",
       " 'oaklandhiphop',\n",
       " 'electropowerpop',\n",
       " 'dirtysouthrap',\n",
       " 'oldschoolatlantahiphop',\n",
       " 'seattlehiphop',\n",
       " 'chicagorap',\n",
       " 'conscioushiphop',\n",
       " 'darksynth',\n",
       " 'sandiegorap',\n",
       " 'beatlesque',\n",
       " 'britpop',\n",
       " 'madchester',\n",
       " 'alternativerock',\n",
       " 'bluesrock',\n",
       " 'detroitrock',\n",
       " 'garagerock',\n",
       " 'modernbluesrock',\n",
       " 'punkblues',\n",
       " 'chicanorap',\n",
       " 'industrialpop',\n",
       " 'danishelectronic',\n",
       " 'pittsburghrap',\n",
       " 'slaphouse',\n",
       " 'funkmetal',\n",
       " 'funkrock',\n",
       " 'lo-fiindie',\n",
       " 'belgianedm',\n",
       " 'indiegaragerock',\n",
       " 'lo-fiemo',\n",
       " 'deepgermanhiphop',\n",
       " 'germandrill',\n",
       " 'germanhiphop',\n",
       " 'dreamsmp',\n",
       " 'viralrap',\n",
       " 'frenchindiepop',\n",
       " 'austropop',\n",
       " 'volkspop',\n",
       " 'alternativemetal',\n",
       " 'numetal',\n",
       " 'rapmetal',\n",
       " 'progressiveelectrohouse',\n",
       " 'germanpop',\n",
       " 'partyschlager',\n",
       " 'schlager',\n",
       " 'canadianindie',\n",
       " 'stompandholler',\n",
       " 'melodicrap',\n",
       " 'albumrock',\n",
       " 'classicrock',\n",
       " 'hardrock',\n",
       " 'mellowgold',\n",
       " 'softrock',\n",
       " 'melbournebounce',\n",
       " 'melbournebounceinternational',\n",
       " 'dancerock',\n",
       " 'europop',\n",
       " 'deeptropicalhouse',\n",
       " 'dutchpop',\n",
       " 'memphishiphop',\n",
       " 'tennesseehiphop',\n",
       " 'canadiancontemporaryr&b',\n",
       " 'canadianpop',\n",
       " 'brostep',\n",
       " 'complextro',\n",
       " 'electro',\n",
       " 'belgianpop',\n",
       " 'newfrenchtouch',\n",
       " 'backgroundmusic',\n",
       " 'calminginstrumental',\n",
       " 'modernalternativerock',\n",
       " 'shimmerpop',\n",
       " 'icelandicindie',\n",
       " 'icelandicrock',\n",
       " 'jazzblues',\n",
       " 'memphissoul',\n",
       " 'southernsoul',\n",
       " 'eurovision',\n",
       " 'disco',\n",
       " 'newromantic',\n",
       " 'newwave',\n",
       " 'newwavepop',\n",
       " 'folkrock',\n",
       " 'rootsrock',\n",
       " 'raprock',\n",
       " 'francoton',\n",
       " 'rapmarseille',\n",
       " 'afrofuturism',\n",
       " 'adultstandards',\n",
       " 'brillbuildingpop',\n",
       " 'rock-and-roll',\n",
       " 'lounge',\n",
       " 'frenchhiphop',\n",
       " 'popurbaine',\n",
       " 'irishsinger-songwriter',\n",
       " 'belgiandance',\n",
       " 'modernalternativepop',\n",
       " 'newrave',\n",
       " 'rockdrums',\n",
       " 'punk',\n",
       " 'popvenezolano',\n",
       " 'funkcarioca',\n",
       " 'funkostentacao',\n",
       " 'funkpaulista',\n",
       " 'sertanejo',\n",
       " 'sertanejopop',\n",
       " 'sertanejouniversitario',\n",
       " 'arrocha',\n",
       " 'forro',\n",
       " 'funkpop',\n",
       " 'pagodebaiano',\n",
       " 'popnacional',\n",
       " 'funkdasantigas',\n",
       " 'pagode',\n",
       " 'funkconsciente',\n",
       " 'brazilianrock',\n",
       " 'folkbrasileiro',\n",
       " 'mpb',\n",
       " 'novampb',\n",
       " 'trapfunk',\n",
       " 'socialmediapop',\n",
       " 'funkmelody',\n",
       " 'deathmetal',\n",
       " 'groovemetal',\n",
       " 'arrochadeira',\n",
       " 'piseiro',\n",
       " 'deepfunkostentacao',\n",
       " 'axe',\n",
       " 'brazilianreggae',\n",
       " 'reggaetuga',\n",
       " 'sheffieldindie',\n",
       " 'lgbtq+hiphop',\n",
       " 'nycrap',\n",
       " 'deepundergroundhiphop',\n",
       " 'kentuckyhiphop',\n",
       " 'hawaiianhiphop',\n",
       " 'phillyrap',\n",
       " 'torontorap',\n",
       " 'newjerseyrap',\n",
       " 'aestheticrap',\n",
       " 'darktrap',\n",
       " 'memerap',\n",
       " 'ocrap',\n",
       " 'screamrap',\n",
       " 'undergroundhiphop',\n",
       " 'bronxhiphop',\n",
       " 'eastcoasthiphop',\n",
       " 'gangsterrap',\n",
       " 'hardcorehiphop',\n",
       " 'ukhiphop',\n",
       " 'batonrougerap',\n",
       " 'viraltrap',\n",
       " 'cumbiaranchera',\n",
       " 'chileanrock',\n",
       " 'spanishpoprock',\n",
       " 'phonk',\n",
       " 'popr&b',\n",
       " 'nuevacancion',\n",
       " 'latintalentshow',\n",
       " 'mariachi',\n",
       " 'trapboricua',\n",
       " 'chileanindie',\n",
       " 'popchileno',\n",
       " 'grupera',\n",
       " 'gruperasinmortales',\n",
       " 'duranguense',\n",
       " 'mexicanrock-and-roll',\n",
       " 'latinafrobeat',\n",
       " 'folclorcolombiano',\n",
       " 'modernsalsa',\n",
       " 'electrolatino',\n",
       " 'bedroompop',\n",
       " 'bergenindie',\n",
       " 'norwegianindie',\n",
       " 'salsacolombiana',\n",
       " 'skachileno',\n",
       " 'vallenatomoderno',\n",
       " 'musicapopularcolombiana',\n",
       " 'orquestatropical',\n",
       " 'classiccolombianpop',\n",
       " 'tierracaliente',\n",
       " 'porro',\n",
       " 'cumbiasalvadorena',\n",
       " 'musicacostena',\n",
       " 'cumbiadelsureste',\n",
       " 'folclorafrocolombiano',\n",
       " 'salsachoke',\n",
       " 'popelectronico',\n",
       " 'tropicalalternativo',\n",
       " 'anime',\n",
       " 'k-popboygroup',\n",
       " 'dancehall',\n",
       " 'modernreggae',\n",
       " 'traphall',\n",
       " 'puertoricanrock',\n",
       " 'rapconciencia',\n",
       " 'jamaicanhiphop',\n",
       " 'yachtrock',\n",
       " 'jamaicandancehall',\n",
       " 'reggaefusion',\n",
       " 'contemporarycountry',\n",
       " 'guadalajaraindie',\n",
       " 'tecnobanda',\n",
       " 'latinhouse',\n",
       " 'finnishindie',\n",
       " 'finnishpop',\n",
       " 'suomirock',\n",
       " 'danishhiphop',\n",
       " 'dakkedak',\n",
       " 'indiefolk',\n",
       " 'escaperoom',\n",
       " 'trapqueen',\n",
       " 'k-pop',\n",
       " 'koreanmasksinger',\n",
       " 'scandinavianr&b',\n",
       " 'plugg',\n",
       " 'pluggnb',\n",
       " 'vaportrap',\n",
       " 'danishindiepop',\n",
       " 'rapconscient',\n",
       " 'afrodancehall',\n",
       " 'afropop',\n",
       " 'azonto',\n",
       " 'azontobeats',\n",
       " 'nigerianpop',\n",
       " 'israelipop',\n",
       " 'k-popgirlgroup',\n",
       " 'bubblegumdance',\n",
       " 'eurodance',\n",
       " 'kentuckyindie',\n",
       " 'kentuckyroots',\n",
       " 'outlawcountry',\n",
       " 'post-grunge',\n",
       " 'commons',\n",
       " 'videogamemusic',\n",
       " 'hi-nrg',\n",
       " 'acidhouse',\n",
       " 'finnishedm',\n",
       " 'trance',\n",
       " 'dembow',\n",
       " 'rapdominicano',\n",
       " 'classicvenezuelanpop',\n",
       " 'gaitazuliana',\n",
       " 'venezuelanrock',\n",
       " 'trapcolombiano',\n",
       " 'merenguetipico',\n",
       " 'musicatradicionaldominicana',\n",
       " 'colombianrock',\n",
       " 'acousticpop',\n",
       " 'neo-singer-songwriter',\n",
       " 'k-rock',\n",
       " 'finnishdancepop',\n",
       " 'finnishhiphop',\n",
       " 'trova',\n",
       " 'finnishtrap',\n",
       " 'chillout',\n",
       " 'iskelma',\n",
       " 'dutchtrance',\n",
       " 'classiciskelma',\n",
       " 'finnishpoppunk',\n",
       " 'boombap',\n",
       " 'buffalohiphop',\n",
       " 'upstatenyrap',\n",
       " 'electronica',\n",
       " 'livetronica',\n",
       " 'nujazz',\n",
       " 'triphop',\n",
       " 'basshall',\n",
       " 'bellydance',\n",
       " 'frenchpop',\n",
       " 'instrumentallullaby',\n",
       " 'chillhop',\n",
       " 'frenchindiefolk',\n",
       " 'nouvellechansonfrancaise',\n",
       " 'beatdown',\n",
       " 'frenchhardcore',\n",
       " 'experimentalr&b',\n",
       " 'dubstep',\n",
       " 'electronictrap',\n",
       " 'gamingdubstep',\n",
       " 'melodicdubstep',\n",
       " 'rapfrancais',\n",
       " 'baroquepop',\n",
       " 'alternativedance',\n",
       " 'electroclash',\n",
       " 'nudisco',\n",
       " 'baltimoreindie',\n",
       " 'dreamo',\n",
       " 'moderndreampop',\n",
       " 'chanson',\n",
       " 'frenchrock',\n",
       " 'frenchsynthpop',\n",
       " 'bolero',\n",
       " 'rumbacongolaise',\n",
       " 'filterhouse',\n",
       " 'swedishindiepop',\n",
       " 'calirap',\n",
       " 'canadianelectropop',\n",
       " 'russiandance',\n",
       " 'rapcalme',\n",
       " 'varietefrancaise',\n",
       " 'zouglou',\n",
       " 'ambientworship',\n",
       " 'chamberpop',\n",
       " 'anti-folk',\n",
       " 'elephant6',\n",
       " 'lo-fi',\n",
       " 'albanianhiphop',\n",
       " 'instrumentalworship',\n",
       " 'futurebass',\n",
       " 'vaportwitch',\n",
       " 'italianadultpop',\n",
       " 'italodance',\n",
       " 'germanpoprock',\n",
       " 'nzfolk',\n",
       " 'ambientblackmetal',\n",
       " 'atmosphericblackmetal',\n",
       " 'autonomousblackmetal',\n",
       " 'blackmetal',\n",
       " 'dungeonsynth',\n",
       " 'metal',\n",
       " 'norwegianblackmetal',\n",
       " 'norwegianmetal',\n",
       " 'paganblackmetal',\n",
       " 'tolkienmetal',\n",
       " 'indiesiciliano',\n",
       " 'italianindiepop',\n",
       " 'cantopop',\n",
       " 'c-pop',\n",
       " 'classiccantopop',\n",
       " 'animerock',\n",
       " 'mandopop',\n",
       " 'taiwanpop',\n",
       " 'zhongguofeng',\n",
       " 'singaporeanmandopop',\n",
       " 'singaporeanpop',\n",
       " 'country',\n",
       " 'countryroad',\n",
       " 'hongkongindie',\n",
       " 'chineseviralpop',\n",
       " 'mainlandchinesepop',\n",
       " 'hungarianpop',\n",
       " 'icelandichiphop',\n",
       " 'icelandicpop',\n",
       " 'frenchtechhouse',\n",
       " 'minimaltechno',\n",
       " 'indonesianpop',\n",
       " 'indonesianjazz',\n",
       " 'indonesiansinger-songwriter',\n",
       " 'indonesianfolk',\n",
       " 'indonesianindie',\n",
       " 'classichardstyle',\n",
       " 'euphorichardstyle',\n",
       " 'rawstyle',\n",
       " 'indonesianhiphop',\n",
       " 'bruneianpop',\n",
       " 'basstrap',\n",
       " 'classicindonesianrock',\n",
       " 'indonesianpoprock',\n",
       " 'indonesianrock',\n",
       " 'indonesianr&b',\n",
       " 'indonesianalternativerock',\n",
       " 'celticrock',\n",
       " 'emo',\n",
       " 'poppunk',\n",
       " 'slowcore',\n",
       " 'lo-fichill',\n",
       " 'sadrap',\n",
       " 'classicindopop',\n",
       " 'asianamericanhiphop',\n",
       " 'dangdut',\n",
       " 'dangdutremix',\n",
       " 'indonesianviralpop',\n",
       " 'malaysianindie',\n",
       " 'malaysianpop',\n",
       " 'indonesiancitypop',\n",
       " 'deepgroovehouse',\n",
       " 'electro-popfrancais',\n",
       " 'grime',\n",
       " 'etherpop',\n",
       " 'celtic',\n",
       " 'celticpunk',\n",
       " 'folkpunk',\n",
       " 'irishfolk',\n",
       " 'chicagosoul',\n",
       " 'synthpop',\n",
       " 'italianhiphop',\n",
       " 'italianpop',\n",
       " 'operaticpop',\n",
       " 'vocaljazz',\n",
       " 'neo-classical',\n",
       " 'italianpoprock',\n",
       " 'italianundergroundhiphop',\n",
       " 'rapsardegna',\n",
       " 'classicsoundtrack',\n",
       " 'italiansoundtrack',\n",
       " 'soundtrack',\n",
       " 'moderncountryrock',\n",
       " 'bossanova',\n",
       " 'sambass',\n",
       " 'italianalternative',\n",
       " 'classicitalianpop',\n",
       " 'romeindie',\n",
       " '\"canzonedautore\"',\n",
       " 'popviraleitaliano',\n",
       " 'rapnapoletano',\n",
       " 'instrumentalrock',\n",
       " 'neoclassicalmetal',\n",
       " 'shred',\n",
       " 'southcarolinahiphop',\n",
       " 'highvibe',\n",
       " 'bitpop',\n",
       " 'japanesedancepop',\n",
       " 'japaneseelectropop',\n",
       " 'j-acoustic',\n",
       " 'j-pop',\n",
       " 'texascountry',\n",
       " 'grunge',\n",
       " 'brazilianboogie',\n",
       " 'indiejazz',\n",
       " 'indiesoul',\n",
       " 'psicodeliabrasileira',\n",
       " 'post-disco',\n",
       " 'balearic',\n",
       " 'norwegianspacedisco',\n",
       " 'j-pixie',\n",
       " 'j-idol',\n",
       " 'j-poprock',\n",
       " 'j-rock',\n",
       " 'japaneseemo',\n",
       " 'visualkei',\n",
       " 'irishrock',\n",
       " 'northernirishindie',\n",
       " 'japanesesoul',\n",
       " 'dancefloordnb',\n",
       " 'drumandbass',\n",
       " 'jumpup',\n",
       " 'liquidfunk',\n",
       " 'classicmalaysianpop',\n",
       " 'malayrap',\n",
       " 'rockkapak',\n",
       " 'classify',\n",
       " 'wave',\n",
       " 'pixie',\n",
       " 'popemo',\n",
       " 'pianorock',\n",
       " 'norteno-sax',\n",
       " 'tejano',\n",
       " 'narcorap',\n",
       " 'virginislandsreggae',\n",
       " 'veracruzindie',\n",
       " 'latinviralpop',\n",
       " 'cancionmelodica',\n",
       " 'desihiphop',\n",
       " 'desipop',\n",
       " 'dutchhiphop',\n",
       " 'dutchrappop',\n",
       " 'dancehallqueen',\n",
       " 'dutchrock',\n",
       " 'driftphonk',\n",
       " 'alternativeemo',\n",
       " 'anthememo',\n",
       " 'ukpoppunk',\n",
       " 'antilliaanserap',\n",
       " 'chillr&b',\n",
       " 'nigerianhiphop',\n",
       " 'devonindie',\n",
       " 'chillbeats',\n",
       " 'rain',\n",
       " 'dutchhouse',\n",
       " 'countryrock',\n",
       " 'heartlandrock',\n",
       " 'kermis',\n",
       " 'levenslied',\n",
       " 'nederpop',\n",
       " 'ukgrevival',\n",
       " 'experimentalhiphop',\n",
       " 'nederlandsehardstyle',\n",
       " 'tekk',\n",
       " 'australianreggaefusion',\n",
       " 'oldschoolhiphop',\n",
       " 'moombahton',\n",
       " 'ninja',\n",
       " 'tanzanianpop',\n",
       " 'norwegianpop',\n",
       " 'russelater',\n",
       " 'irishhiphop',\n",
       " 'deeppopedm',\n",
       " 'mgpjr',\n",
       " 'barnemusikk',\n",
       " 'norwegianhiphop',\n",
       " 'norwegianpoprap',\n",
       " 'rogalandmusikk',\n",
       " 'canadianamericana',\n",
       " 'deepnewamericana',\n",
       " 'newamericana',\n",
       " 'vaporpop',\n",
       " 'ukalternativepop',\n",
       " 'artrock',\n",
       " 'progressiverock',\n",
       " 'psychedelicrock',\n",
       " 'symphonicrock',\n",
       " 'handsup',\n",
       " 'classicnorwegianpop',\n",
       " 'danseband',\n",
       " 'norwegiancountry',\n",
       " 'norwegianfolkrock',\n",
       " 'norwegianrock',\n",
       " 'paraguayanrock',\n",
       " 'popparaguayo',\n",
       " 'urbanoespanol',\n",
       " 'salsaurbana',\n",
       " 'mexicanrock',\n",
       " 'opm',\n",
       " 'pinoyrock',\n",
       " 'pinoyindie',\n",
       " 'pinoyreggae',\n",
       " 'classicopm',\n",
       " 'emorap',\n",
       " 'deepneofolk',\n",
       " 'pinoyr&b',\n",
       " 'atltrap',\n",
       " 'italiandisco',\n",
       " 'newitalodisco',\n",
       " 'backgroundpiano',\n",
       " 'polishalternative',\n",
       " 'polishpop',\n",
       " 'polishhiphop',\n",
       " 'polishtrap',\n",
       " 'arabelectronic',\n",
       " 'brazilianedm',\n",
       " 'classicdiscopolo',\n",
       " 'klubowe',\n",
       " 'darkpost-punk',\n",
       " 'deathrock',\n",
       " 'spanishpost-punk',\n",
       " 'australianrock',\n",
       " 'kizomba',\n",
       " 'musicaangolana',\n",
       " 'portuguesepop',\n",
       " 'semba',\n",
       " 'poprockbrasileiro',\n",
       " 'rockbrasiliense',\n",
       " 'rocknacionalbrasileiro',\n",
       " 'hiphoptuga',\n",
       " 'rapcriolo',\n",
       " 'adoracao',\n",
       " 'braziliangospel',\n",
       " 'kizombaantigas',\n",
       " 'kizombacabo-verdiana',\n",
       " 'batida',\n",
       " 'funana',\n",
       " 'rapangolano',\n",
       " 'k-poprealityshow',\n",
       " 'koreaninstrumental',\n",
       " 'flamencourbano',\n",
       " 'spanishrock',\n",
       " 'latinworship',\n",
       " 'rapcristiano',\n",
       " 'perreo',\n",
       " 'popflamenco',\n",
       " 'swedishhiphop',\n",
       " 'swedishpoprap',\n",
       " 'swedishidolpop',\n",
       " 'classicswedishpop',\n",
       " 'swedishalternativerock',\n",
       " 'swedishindierock',\n",
       " 'danspunk',\n",
       " 'experimentalfolk',\n",
       " 'moroccanpop',\n",
       " 'nzpop',\n",
       " 'swedishjazz',\n",
       " 'swedishsoul',\n",
       " 'gothenburgindie',\n",
       " 'canadianrock',\n",
       " 'neonpoppunk',\n",
       " 'bostonfolk',\n",
       " 'taiwanhiphop',\n",
       " 'taiwansinger-songwriter',\n",
       " 'chineseindie',\n",
       " 'taiwanindie',\n",
       " 'malaysianmandopop',\n",
       " 'classicmandopop',\n",
       " 'chinesesinger-songwriter',\n",
       " 'chineseindiepop',\n",
       " 'anthemworship',\n",
       " 'ccm',\n",
       " 'christianalternativerock',\n",
       " 'christianmusic',\n",
       " 'worship',\n",
       " 'chineseelectropop',\n",
       " 'chineser&b',\n",
       " 'turkishtrap',\n",
       " 'arabesk',\n",
       " 'turkishfolk',\n",
       " 'turkishpop',\n",
       " 'turkishdeephouse',\n",
       " 'turkishhiphop',\n",
       " 'neo-psychedelic',\n",
       " 'psychedelicpop',\n",
       " 'turkishtrappop',\n",
       " 'turkishsinger-songwriter',\n",
       " 'anadolurock',\n",
       " 'karadenizturkuleri',\n",
       " 'turkishalternative',\n",
       " 'turkishalternativerock',\n",
       " 'turkishrock',\n",
       " 'kosovanpop',\n",
       " 'oyunhavasi',\n",
       " 'newschoolturkcerap',\n",
       " 'persianpop',\n",
       " 'bowpop',\n",
       " 'compositionalambient',\n",
       " 'frenchsoundtrack',\n",
       " 'deepturkishpop',\n",
       " 'turkishedm',\n",
       " 'turkceremix',\n",
       " 'discohouse',\n",
       " 'vocalhouse',\n",
       " 'karadenizpop',\n",
       " 'turkishaltpop',\n",
       " 'turkishjazz',\n",
       " 'bigbeat',\n",
       " 'icelandicelectronic',\n",
       " 'brazilianjazz',\n",
       " 'cooljazz',\n",
       " 'jazzguitar',\n",
       " 'samba',\n",
       " 'violao',\n",
       " 'turkcedrill',\n",
       " 'turkishpunk',\n",
       " 'turkishpsych',\n",
       " 'ukhouse',\n",
       " 'londonrap',\n",
       " 'ukalternativehiphop',\n",
       " 'bandajalisciense',\n",
       " 'cumbiaandinamexicana',\n",
       " 'argentinereggae',\n",
       " 'reggaeenespanol',\n",
       " 'southernsoulblues',\n",
       " 'rocknacional',\n",
       " 'hamburgelectronic',\n",
       " 'microhouse',\n",
       " 'organicelectronic',\n",
       " 'popambient',\n",
       " 'eauclaireindie',\n",
       " 'melancholia',\n",
       " 'futurehouse',\n",
       " 'czechpop',\n",
       " 'czskhiphop',\n",
       " 'czechhiphop',\n",
       " 'bubblegumpop',\n",
       " 'merseybeat',\n",
       " 'rockabilly',\n",
       " 'newtribe',\n",
       " 'shamanic',\n",
       " 'lullaby',\n",
       " 'hamptonroadsindie',\n",
       " 'nu-cumbia',\n",
       " 'newcastlenswindie',\n",
       " 'rockuruguayo',\n",
       " 'blackamericana',\n",
       " 'indietriste',\n",
       " 'modernblues',\n",
       " 'drill',\n",
       " 'darkpop',\n",
       " 'christianrock',\n",
       " 'indieanthem-folk',\n",
       " 'powermetal',\n",
       " 'swedishmetal',\n",
       " 'swedishpowermetal',\n",
       " 'birminghammetal',\n",
       " 'ohiohiphop',\n",
       " 'alternativehiphop',\n",
       " 'germanundergroundrap',\n",
       " 'austrianpop',\n",
       " 'cdmxindie',\n",
       " 'mexicanindie',\n",
       " 'r&benespanol',\n",
       " 'bedroomsoul',\n",
       " 'bubblegrunge',\n",
       " 'germancloudrap',\n",
       " 'hamburghiphop',\n",
       " 'balkanhiphop',\n",
       " 'turbofolk',\n",
       " 'oldschooldeutschrap',\n",
       " 'desertblues',\n",
       " 'griot',\n",
       " 'kora',\n",
       " 'malianblues',\n",
       " 'mandepop',\n",
       " 'world',\n",
       " 'metalcore',\n",
       " 'nu-metalcore',\n",
       " 'screamo',\n",
       " 'trancecore',\n",
       " 'egyptianhiphop',\n",
       " 'egyptiantrap',\n",
       " 'chicagodrill',\n",
       " 'post-punk',\n",
       " 'ukpost-punk',\n",
       " 'hardbop',\n",
       " 'jazztrumpet',\n",
       " 'countrydawn',\n",
       " 'belgianhiphop',\n",
       " 'dutchdrill',\n",
       " 'frenchindietronica',\n",
       " 'carnaval',\n",
       " 'afrikaans',\n",
       " 'sophisti-pop',\n",
       " 'bregafunk',\n",
       " 'brazilianhiphop',\n",
       " 'poprapbrasileiro',\n",
       " 'trapbrasileiro',\n",
       " 'batidaoromantico',\n",
       " 'r&bbrasileiro',\n",
       " 'corridosalternativos',\n",
       " 'corridosclasicos',\n",
       " 'australianindiefolk',\n",
       " 'afrofuturismobrasileiro',\n",
       " 'viralpopbrasileiro',\n",
       " 'sertanejotradicional',\n",
       " 'velhaguarda',\n",
       " 'poplgbtq+brasileira',\n",
       " 'pagodenovo',\n",
       " 'alabamarap',\n",
       " 'electra',\n",
       " 'experimentalpop',\n",
       " 'ukcontemporaryr&b',\n",
       " 'houstonrap',\n",
       " 'texaslatinrap',\n",
       " 'basesdefreestyle',\n",
       " 'sacramentoindie',\n",
       " 'indiepunk',\n",
       " 'czechpoprock',\n",
       " 'czechrock',\n",
       " 'torchsong',\n",
       " 'vintageschlager',\n",
       " 'worlddevotional',\n",
       " 'futurerock',\n",
       " 'industrialmetal',\n",
       " 'melodicmetal',\n",
       " 'slayer',\n",
       " 'israelihiphop',\n",
       " 'basshouse',\n",
       " 'noisepop',\n",
       " 'classicdanishpop',\n",
       " 'danishpoprock',\n",
       " 'eventyr',\n",
       " 'k-rap',\n",
       " 'dominicanindie',\n",
       " 'salsaperuana',\n",
       " 'animerap',\n",
       " 'suomirap',\n",
       " 'laulaja-lauluntekija',\n",
       " 'rapdf',\n",
       " 'minnesotahiphop',\n",
       " 'israelifolk',\n",
       " 'classicfinnishpop',\n",
       " 'countrypop',\n",
       " 'deeptalentshow',\n",
       " 'finnishreggae',\n",
       " 'one-personband',\n",
       " 'oldschoolrapfrancais',\n",
       " 'mambochileno',\n",
       " 'urbanochileno',\n",
       " 'glammetal',\n",
       " 'sleazerock',\n",
       " 'dancehallguyanaise',\n",
       " 'shatta',\n",
       " 'trapantillais',\n",
       " 'zoukriddim',\n",
       " 'japanesechillhop',\n",
       " 'lo-fibeats',\n",
       " 'electrotrash',\n",
       " 'nantesindie',\n",
       " 'afroswing',\n",
       " 'ukdancehall',\n",
       " 'dmvrap',\n",
       " 'christlicherrap',\n",
       " 'estonianpop',\n",
       " 'estonianrock',\n",
       " 'ambientguitar',\n",
       " 'sadlo-fi',\n",
       " 'sanantoniorap',\n",
       " 'chillstep',\n",
       " 'drillespanol',\n",
       " 'rapespanol',\n",
       " 'irishpop',\n",
       " 'backgroundjazz',\n",
       " 'swedishtrappop',\n",
       " 'tvog',\n",
       " 'britishblues',\n",
       " 'britishinvasion',\n",
       " 'classicgaragerock',\n",
       " 'experimental',\n",
       " 'freakbeat',\n",
       " 'protopunk',\n",
       " 'pubrock',\n",
       " 'rhodeislandrap',\n",
       " 'detroittrap',\n",
       " 'scamrap',\n",
       " 'hardbass',\n",
       " 'russianrave',\n",
       " 'singaporeansinger-songwriter',\n",
       " 'japanesevgm',\n",
       " 'soundteam',\n",
       " 'hungarianmetal',\n",
       " 'hungarianrock',\n",
       " 'magyaralternative',\n",
       " 'hungarianedm',\n",
       " 'gfunk',\n",
       " 'westcoastrap',\n",
       " 'canadianhiphop',\n",
       " 'classicicelandicpop',\n",
       " 'icelandicfolk',\n",
       " 'blackenedscreamo',\n",
       " 'icelandicblackmetal',\n",
       " 'icelandicmetal',\n",
       " 'post-metal',\n",
       " 'vikingblackmetal',\n",
       " 'barnalog',\n",
       " 'icelandicsinger-songwriter',\n",
       " 'laindie',\n",
       " 'arkansashiphop',\n",
       " 'indonesianfolkpop',\n",
       " 'jazzpop',\n",
       " 'indonesianindierock',\n",
       " 'brooklyndrill',\n",
       " 'milanindie',\n",
       " 'raptunisien',\n",
       " 'trapitaliana',\n",
       " 'indieliguria',\n",
       " 'rapgenovese',\n",
       " 'animescore',\n",
       " 'japanesesoundtrack',\n",
       " 'socalpoppunk',\n",
       " 'sleep',\n",
       " 'atmosphere',\n",
       " 'melodicmetalcore',\n",
       " 'progressivedeathcore',\n",
       " 'japanesepunkrock',\n",
       " ...]"
      ]
     },
     "execution_count": 38,
     "metadata": {},
     "output_type": "execute_result"
    }
   ],
   "source": [
    "all_genre"
   ]
  },
  {
   "cell_type": "code",
   "execution_count": 39,
   "metadata": {},
   "outputs": [
    {
     "data": {
      "text/plain": [
       "list"
      ]
     },
     "execution_count": 39,
     "metadata": {},
     "output_type": "execute_result"
    }
   ],
   "source": [
    "type(categories[1])"
   ]
  },
  {
   "cell_type": "code",
   "execution_count": 40,
   "metadata": {},
   "outputs": [
    {
     "data": {
      "text/plain": [
       "['danceability',\n",
       " 'energy',\n",
       " 'key',\n",
       " 'loudness',\n",
       " 'mode',\n",
       " 'speechiness',\n",
       " 'acousticness',\n",
       " 'instrumentalness',\n",
       " 'liveness',\n",
       " 'valence',\n",
       " 'tempo',\n",
       " 'duration_ms',\n",
       " 'time_signature']"
      ]
     },
     "execution_count": 40,
     "metadata": {},
     "output_type": "execute_result"
    }
   ],
   "source": [
    "numerical_key"
   ]
  },
  {
   "cell_type": "code",
   "execution_count": 41,
   "metadata": {},
   "outputs": [],
   "source": [
    "dancepop_only=original_dataset.loc[categories[0]]\n",
    "latino_only=original_dataset.loc[categories[1]]\n",
    "boyband_only=original_dataset.loc[categories[5]]"
   ]
  },
  {
   "cell_type": "code",
   "execution_count": 42,
   "metadata": {},
   "outputs": [
    {
     "data": {
      "text/plain": [
       "<AxesSubplot:>"
      ]
     },
     "execution_count": 42,
     "metadata": {},
     "output_type": "execute_result"
    },
    {
     "data": {
      "image/png": "[encoded data removed]",
      "text/plain": [
       "<Figure size 432x288 with 1 Axes>"
      ]
     },
     "metadata": {
      "needs_background": "light"
     },
     "output_type": "display_data"
    },
    {
     "data": {
      "image/png": "[encoded data removed]",
      "text/plain": [
       "<Figure size 432x288 with 1 Axes>"
      ]
     },
     "metadata": {
      "needs_background": "light"
     },
     "output_type": "display_data"
    },
    {
     "data": {
      "image/png": "[encoded data removed]",
      "text/plain": [
       "<Figure size 432x288 with 1 Axes>"
      ]
     },
     "metadata": {
      "needs_background": "light"
     },
     "output_type": "display_data"
    }
   ],
   "source": [
    "plt.figure()\n",
    "dancepop_only.boxplot(column=numerical_key[0])\n",
    "\n",
    "plt.figure()\n",
    "latino_only.boxplot(column=numerical_key[0])\n",
    "\n",
    "plt.figure()\n",
    "boyband_only.boxplot(column=numerical_key[0])"
   ]
  },
  {
   "cell_type": "code",
   "execution_count": 43,
   "metadata": {},
   "outputs": [
    {
     "data": {
      "text/plain": [
       "<AxesSubplot:>"
      ]
     },
     "execution_count": 43,
     "metadata": {},
     "output_type": "execute_result"
    },
    {
     "data": {
      "image/png": "[encoded data removed]",
      "text/plain": [
       "<Figure size 432x288 with 1 Axes>"
      ]
     },
     "metadata": {
      "needs_background": "light"
     },
     "output_type": "display_data"
    },
    {
     "data": {
      "image/png": "[encoded data removed]",
      "text/plain": [
       "<Figure size 432x288 with 1 Axes>"
      ]
     },
     "metadata": {
      "needs_background": "light"
     },
     "output_type": "display_data"
    },
    {
     "data": {
      "image/png": "[encoded data removed]",
      "text/plain": [
       "<Figure size 432x288 with 1 Axes>"
      ]
     },
     "metadata": {
      "needs_background": "light"
     },
     "output_type": "display_data"
    }
   ],
   "source": [
    "plt.figure()\n",
    "dancepop_only.boxplot(column=numerical_key[1])\n",
    "\n",
    "plt.figure()\n",
    "latino_only.boxplot(column=numerical_key[1])\n",
    "\n",
    "plt.figure()\n",
    "boyband_only.boxplot(column=numerical_key[1])"
   ]
  },
  {
   "cell_type": "code",
   "execution_count": 44,
   "metadata": {},
   "outputs": [
    {
     "data": {
      "text/plain": [
       "<AxesSubplot:>"
      ]
     },
     "execution_count": 44,
     "metadata": {},
     "output_type": "execute_result"
    },
    {
     "data": {
      "image/png": "[encoded data removed]",
      "text/plain": [
       "<Figure size 432x288 with 1 Axes>"
      ]
     },
     "metadata": {
      "needs_background": "light"
     },
     "output_type": "display_data"
    },
    {
     "data": {
      "image/png": "[encoded data removed]",
      "text/plain": [
       "<Figure size 432x288 with 1 Axes>"
      ]
     },
     "metadata": {
      "needs_background": "light"
     },
     "output_type": "display_data"
    },
    {
     "data": {
      "image/png": "[encoded data removed]",
      "text/plain": [
       "<Figure size 432x288 with 1 Axes>"
      ]
     },
     "metadata": {
      "needs_background": "light"
     },
     "output_type": "display_data"
    }
   ],
   "source": [
    "plt.figure()\n",
    "dancepop_only.boxplot(column=numerical_key[2])\n",
    "\n",
    "plt.figure()\n",
    "latino_only.boxplot(column=numerical_key[2])\n",
    "\n",
    "plt.figure()\n",
    "boyband_only.boxplot(column=numerical_key[2])"
   ]
  },
  {
   "cell_type": "code",
   "execution_count": 45,
   "metadata": {},
   "outputs": [
    {
     "data": {
      "text/plain": [
       "<AxesSubplot:>"
      ]
     },
     "execution_count": 45,
     "metadata": {},
     "output_type": "execute_result"
    },
    {
     "data": {
      "image/png": "[encoded data removed]",
      "text/plain": [
       "<Figure size 432x288 with 1 Axes>"
      ]
     },
     "metadata": {
      "needs_background": "light"
     },
     "output_type": "display_data"
    },
    {
     "data": {
      "image/png": "[encoded data removed]",
      "text/plain": [
       "<Figure size 432x288 with 1 Axes>"
      ]
     },
     "metadata": {
      "needs_background": "light"
     },
     "output_type": "display_data"
    },
    {
     "data": {
      "image/png": "[encoded data removed]",
      "text/plain": [
       "<Figure size 432x288 with 1 Axes>"
      ]
     },
     "metadata": {
      "needs_background": "light"
     },
     "output_type": "display_data"
    }
   ],
   "source": [
    "plt.figure()\n",
    "dancepop_only.boxplot(column=numerical_key[3])\n",
    "\n",
    "plt.figure()\n",
    "latino_only.boxplot(column=numerical_key[3])\n",
    "\n",
    "plt.figure()\n",
    "boyband_only.boxplot(column=numerical_key[3])"
   ]
  },
  {
   "cell_type": "code",
   "execution_count": 46,
   "metadata": {},
   "outputs": [
    {
     "data": {
      "text/plain": [
       "<AxesSubplot:>"
      ]
     },
     "execution_count": 46,
     "metadata": {},
     "output_type": "execute_result"
    },
    {
     "data": {
      "image/png": "[encoded data removed]",
      "text/plain": [
       "<Figure size 432x288 with 1 Axes>"
      ]
     },
     "metadata": {
      "needs_background": "light"
     },
     "output_type": "display_data"
    },
    {
     "data": {
      "image/png": "[encoded data removed]",
      "text/plain": [
       "<Figure size 432x288 with 1 Axes>"
      ]
     },
     "metadata": {
      "needs_background": "light"
     },
     "output_type": "display_data"
    },
    {
     "data": {
      "image/png": "[encoded data removed]",
      "text/plain": [
       "<Figure size 432x288 with 1 Axes>"
      ]
     },
     "metadata": {
      "needs_background": "light"
     },
     "output_type": "display_data"
    }
   ],
   "source": [
    "plt.figure()\n",
    "dancepop_only.boxplot(column=numerical_key[8])\n",
    "\n",
    "plt.figure()\n",
    "latino_only.boxplot(column=numerical_key[8])\n",
    "\n",
    "plt.figure()\n",
    "boyband_only.boxplot(column=numerical_key[8])"
   ]
  },
  {
   "cell_type": "code",
   "execution_count": 47,
   "metadata": {},
   "outputs": [
    {
     "data": {
      "text/plain": [
       "<AxesSubplot:>"
      ]
     },
     "execution_count": 47,
     "metadata": {},
     "output_type": "execute_result"
    },
    {
     "data": {
      "image/png": "[encoded data removed]",
      "text/plain": [
       "<Figure size 432x288 with 1 Axes>"
      ]
     },
     "metadata": {
      "needs_background": "light"
     },
     "output_type": "display_data"
    },
    {
     "data": {
      "image/png": "[encoded data removed]",
      "text/plain": [
       "<Figure size 432x288 with 1 Axes>"
      ]
     },
     "metadata": {
      "needs_background": "light"
     },
     "output_type": "display_data"
    },
    {
     "data": {
      "image/png": "[encoded data removed]",
      "text/plain": [
       "<Figure size 432x288 with 1 Axes>"
      ]
     },
     "metadata": {
      "needs_background": "light"
     },
     "output_type": "display_data"
    }
   ],
   "source": [
    "plt.figure()\n",
    "dancepop_only.boxplot(column=numerical_key[10])\n",
    "\n",
    "plt.figure()\n",
    "latino_only.boxplot(column=numerical_key[10])\n",
    "\n",
    "plt.figure()\n",
    "boyband_only.boxplot(column=numerical_key[10])"
   ]
  },
  {
   "cell_type": "code",
   "execution_count": 48,
   "metadata": {},
   "outputs": [
    {
     "data": {
      "text/plain": [
       "<AxesSubplot:>"
      ]
     },
     "execution_count": 48,
     "metadata": {},
     "output_type": "execute_result"
    },
    {
     "data": {
      "image/png": "[encoded data removed]",
      "text/plain": [
       "<Figure size 432x288 with 1 Axes>"
      ]
     },
     "metadata": {
      "needs_background": "light"
     },
     "output_type": "display_data"
    }
   ],
   "source": [
    "original_dataset.boxplot(column=numerical_key[4:7])"
   ]
  },
  {
   "cell_type": "code",
   "execution_count": 49,
   "metadata": {},
   "outputs": [
    {
     "data": {
      "text/plain": [
       "<AxesSubplot:>"
      ]
     },
     "execution_count": 49,
     "metadata": {},
     "output_type": "execute_result"
    },
    {
     "data": {
      "image/png": "[encoded data removed]",
      "text/plain": [
       "<Figure size 432x288 with 1 Axes>"
      ]
     },
     "metadata": {
      "needs_background": "light"
     },
     "output_type": "display_data"
    }
   ],
   "source": [
    "original_dataset.boxplot(column=numerical_key[7:10])"
   ]
  },
  {
   "cell_type": "code",
   "execution_count": 50,
   "metadata": {},
   "outputs": [
    {
     "data": {
      "text/plain": [
       "<AxesSubplot:>"
      ]
     },
     "execution_count": 50,
     "metadata": {},
     "output_type": "execute_result"
    },
    {
     "data": {
      "image/png": "[encoded data removed]",
      "text/plain": [
       "<Figure size 432x288 with 1 Axes>"
      ]
     },
     "metadata": {
      "needs_background": "light"
     },
     "output_type": "display_data"
    }
   ],
   "source": [
    "original_dataset.boxplot(column=numerical_key[10:13])"
   ]
  },
  {
   "cell_type": "code",
   "execution_count": null,
   "metadata": {},
   "outputs": [],
   "source": []
  },
  {
   "cell_type": "code",
   "execution_count": null,
   "metadata": {},
   "outputs": [],
   "source": []
  }
 ],
 "metadata": {
  "kernelspec": {
   "display_name": "Python 3",
   "language": "python",
   "name": "python3"
  },
  "language_info": {
   "codemirror_mode": {
    "name": "ipython",
    "version": 3
   },
   "file_extension": ".py",
   "mimetype": "text/x-python",
   "name": "python",
   "nbconvert_exporter": "python",
   "pygments_lexer": "ipython3",
   "version": "3.8.5"
  }
 },
 "nbformat": 4,
 "nbformat_minor": 4
}
